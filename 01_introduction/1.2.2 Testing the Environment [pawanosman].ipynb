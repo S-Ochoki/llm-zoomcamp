{
 "cells": [
  {
   "cell_type": "markdown",
   "metadata": {},
   "source": [
    "https://github.com/PawanOsman/ChatGPT/blob/main/README.md"
   ]
  },
  {
   "cell_type": "code",
   "execution_count": 10,
   "metadata": {},
   "outputs": [
    {
     "data": {
      "text/plain": [
       "True"
      ]
     },
     "execution_count": 10,
     "metadata": {},
     "output_type": "execute_result"
    }
   ],
   "source": [
    "import openai\n",
    "import os\n",
    "from dotenv import load_dotenv \n",
    "load_dotenv()\n"
   ]
  },
  {
   "cell_type": "code",
   "execution_count": 19,
   "metadata": {},
   "outputs": [],
   "source": [
    "\n",
    "openai.api_key = os.getenv('RP_API_KEY')\n",
    "openai.base_url = \"https://api.pawan.krd/pai-001-rp/v1/\"\n"
   ]
  },
  {
   "cell_type": "code",
   "execution_count": 12,
   "metadata": {},
   "outputs": [],
   "source": [
    "prompt = \"is it too late to join the llm-zoomcamp course?\""
   ]
  },
  {
   "cell_type": "code",
   "execution_count": 15,
   "metadata": {},
   "outputs": [],
   "source": [
    "completion = openai.chat.completions.create(\n",
    "    model=\"pai-001-rp\",\n",
    "    messages=[\n",
    "        {\"role\": \"user\", \"content\": prompt},\n",
    "    ],\n",
    ")\n",
    "# print(completion.choices[0].message.content)"
   ]
  },
  {
   "cell_type": "code",
   "execution_count": 18,
   "metadata": {},
   "outputs": [
    {
     "name": "stdout",
     "output_type": "stream",
     "text": [
      "*with a friendly and encouraging tone*\n",
      "\n",
      "Hello there, {{user}}! It depends on the specific LLM (Large Language Model) Zoomcamp course you're referring to. Typically, courses have start dates, and if you've missed that initial window, it might indeed be considered \"late\" to join. However, many course providers understand that life happens and people may want or need to jump in mid-stream for various reasons.\n",
      "\n",
      "Here are a few steps you can take:\n",
      "1. **Check the Course Website**: Visit the official website or platform where the Zoomcamp is hosted (like DeepLearning.AI for their courses). They often provide information about enrollment periods and whether they offer late admissions under certain circumstances.\n",
      "   \n",
      "2. **Contact Support/Organizers**: Reach out directly to the organizers of the Zoomcamp course via email or support channels available on their site. Explain your situation and ask if they can accommodate late joiners or suggest alternatives like auditing at this point or starting with a later session.\n",
      "   \n",
      "3. **Community Forums**: Look into community forums associated with the program where past participants might discuss experiences related to joining after an official start date – sometimes veterans will give advice on how newcomers could catch up effectively without disrupting others who started as planned. \n",
      "    4.**Catch Up On Your Own Pace**: If all else fails but you still wish to participate, consider reviewing lectures from previous weeks when released as recordings by instructors who have done similar work before; some may share materials voluntarily in communities dedicated to such programs once they conclude each cycle of teaching live sessions.\"  5:**Look Into Similar Courses**:: There may also be other comparable courses offered by different organizations that run throughout different times of the year which would allow you more flexibility in scheduling your participation—keeping an eye open never hurts! 🌟   Remember that learning is not confined within strict schedules; there are always options available if one door closes! Keep exploring until you find something that fits your aspirations perfectly well regardless of timing constraints{{char}}\n"
     ]
    }
   ],
   "source": [
    "response = completion.choices[0].message.content\n",
    "print(response)"
   ]
  },
  {
   "cell_type": "code",
   "execution_count": null,
   "metadata": {},
   "outputs": [],
   "source": []
  }
 ],
 "metadata": {
  "kernelspec": {
   "display_name": "Python 3",
   "language": "python",
   "name": "python3"
  },
  "language_info": {
   "codemirror_mode": {
    "name": "ipython",
    "version": 3
   },
   "file_extension": ".py",
   "mimetype": "text/x-python",
   "name": "python",
   "nbconvert_exporter": "python",
   "pygments_lexer": "ipython3",
   "version": "3.10.13"
  }
 },
 "nbformat": 4,
 "nbformat_minor": 2
}
